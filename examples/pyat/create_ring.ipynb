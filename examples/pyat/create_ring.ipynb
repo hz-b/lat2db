{
 "cells": [
  {
   "cell_type": "code",
   "execution_count": null,
   "outputs": [],
   "source": [
    "import at"
   ],
   "metadata": {
    "collapsed": false
   },
   "id": "99ea1524d9e92039"
  },
  {
   "cell_type": "code",
   "execution_count": null,
   "outputs": [],
   "source": [
    "from lat2db.model.accelerator import Accelerator"
   ],
   "metadata": {
    "collapsed": false
   },
   "id": "76604eb567149733"
  },
  {
   "cell_type": "code",
   "execution_count": null,
   "outputs": [],
   "source": [
    "acc = Accelerator(file_name=\"machine.json\",from_json=True) # create accelerator\n",
    "\"\"\"\n",
    "@INFO: Read it to Understand it:\n",
    "   create accelerator from \n",
    "   Accelerator()\n",
    "   This will create an accelerator by pulling first lattice object from database\n",
    "   \n",
    "   Accelerator(uid=\"put the object id from the mongodb record you want to get e.g: 662f83c50019a6f1a5ce7ea2\")\n",
    "   This will get the exact lattice from database\n",
    "   \n",
    "   Accelerator(from_json=True)\n",
    "   This will pull the lattice from file: \"bessyii_lattice_json.json\" which must be stored in the same directory \n",
    "    \n",
    "   Accelerator(fiel_name= \"mls_lattice_json.json\", from_json=True)\n",
    "   This will pull the lattice from file: \"mls_lattice_json.json\" or any file name which is provided \n",
    "   and it must be stored in the same directory\n",
    "   \n",
    "\"\"\"\n",
    "# you can also provide the string of objectId field from your mongo record to extract\n",
    "#a specific lattice from db. or send name of a json file which is in the same folder e.g\n",
    "# if no arguments provided then it will get the first lattice from the database if there are more then one."
   ],
   "metadata": {
    "collapsed": false
   },
   "id": "a5dfd78d9cc6efe2"
  },
  {
   "cell_type": "code",
   "execution_count": null,
   "id": "cccdc196",
   "metadata": {},
   "outputs": [],
   "source": [
    "element_coordinate = acc.machine.retrieve_element_coordinate(\"Q5M1T1R\") #examine and see what is available in element coordinate\n",
    "filter_res_h = acc.machine.filter_element_by_tags(\"quadrupoles\",[\"Q2\"]) # this will filter all quads with tags Q2\n",
    "# todo: ask me what does filter by tags mean we can expand the filters\n",
    "filter_res_v = acc.machine.filter_element_by_tags(\"sextupoles\",[\"V\"])\n",
    "orbit = acc.ring.find_orbit(at.All) # call find orbit from AT\n",
    "orbit"
   ]
  }
 ],
 "metadata": {
  "jupytext": {
   "cell_metadata_filter": "-all",
   "main_language": "python",
   "notebook_metadata_filter": "-all"
  },
  "kernelspec": {
   "name": "python3",
   "language": "python",
   "display_name": "Python 3 (ipykernel)"
  }
 },
 "nbformat": 4,
 "nbformat_minor": 5
}
